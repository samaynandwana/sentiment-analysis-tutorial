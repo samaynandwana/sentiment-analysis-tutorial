{
  "nbformat": 4,
  "nbformat_minor": 0,
  "metadata": {
    "colab": {
      "name": "Sentiment.ipynb",
      "provenance": []
    },
    "kernelspec": {
      "name": "python3",
      "display_name": "Python 3"
    },
    "language_info": {
      "name": "python"
    }
  },
  "cells": [
    {
      "cell_type": "code",
      "metadata": {
        "id": "O7_unz22m9Zn"
      },
      "source": [
        "from textblob import TextBlob\n",
        "import nltk"
      ],
      "execution_count": 1,
      "outputs": []
    },
    {
      "cell_type": "code",
      "metadata": {
        "colab": {
          "base_uri": "https://localhost:8080/"
        },
        "id": "i8JqFbbsnF1P",
        "outputId": "998b947a-7715-44dc-c8df-d67820616c55"
      },
      "source": [
        "nltk.download(\"wordnet\")\n",
        "nltk.download(\"brown\")\n",
        "nltk.download('punkt')"
      ],
      "execution_count": 7,
      "outputs": [
        {
          "output_type": "stream",
          "text": [
            "[nltk_data] Downloading package wordnet to /root/nltk_data...\n",
            "[nltk_data]   Package wordnet is already up-to-date!\n",
            "[nltk_data] Downloading package brown to /root/nltk_data...\n",
            "[nltk_data]   Package brown is already up-to-date!\n",
            "[nltk_data] Downloading package punkt to /root/nltk_data...\n",
            "[nltk_data]   Unzipping tokenizers/punkt.zip.\n"
          ],
          "name": "stdout"
        },
        {
          "output_type": "execute_result",
          "data": {
            "text/plain": [
              "True"
            ]
          },
          "metadata": {
            "tags": []
          },
          "execution_count": 7
        }
      ]
    },
    {
      "cell_type": "code",
      "metadata": {
        "id": "VoJ8YpZppJXX"
      },
      "source": [
        "text = '''\n",
        "The Guinea fowl flies through the air with all the grace of a turtle.\n",
        "Lightning Paradise was the local hangout joint where the group usually ended up spending the night.\n",
        "I thought red would have felt warmer in summer but I didn't think about the equator.'''"
      ],
      "execution_count": 3,
      "outputs": []
    },
    {
      "cell_type": "code",
      "metadata": {
        "id": "ALS5Yggipei2"
      },
      "source": [
        "blob = TextBlob(text)"
      ],
      "execution_count": 5,
      "outputs": []
    },
    {
      "cell_type": "code",
      "metadata": {
        "colab": {
          "base_uri": "https://localhost:8080/"
        },
        "id": "hBVyDWU9pgXN",
        "outputId": "f527c846-b1d2-4e29-9fde-709d0961a738"
      },
      "source": [
        "blob.noun_phrases"
      ],
      "execution_count": 8,
      "outputs": [
        {
          "output_type": "execute_result",
          "data": {
            "text/plain": [
              "WordList(['guinea', 'fowl flies', 'lightning', 'local hangout joint'])"
            ]
          },
          "metadata": {
            "tags": []
          },
          "execution_count": 8
        }
      ]
    },
    {
      "cell_type": "code",
      "metadata": {
        "colab": {
          "base_uri": "https://localhost:8080/"
        },
        "id": "PMs7VUG4qdLP",
        "outputId": "4547e02a-1d0f-46a9-de36-6e8f88ea3442"
      },
      "source": [
        "blob.polarity"
      ],
      "execution_count": 9,
      "outputs": [
        {
          "output_type": "execute_result",
          "data": {
            "text/plain": [
              "-0.08333333333333333"
            ]
          },
          "metadata": {
            "tags": []
          },
          "execution_count": 9
        }
      ]
    },
    {
      "cell_type": "code",
      "metadata": {
        "colab": {
          "base_uri": "https://localhost:8080/"
        },
        "id": "7yu7kDKcrSkq",
        "outputId": "f388c0b7-0193-4bff-a8db-4f3296cdd319"
      },
      "source": [
        "blob.subjectivity"
      ],
      "execution_count": 10,
      "outputs": [
        {
          "output_type": "execute_result",
          "data": {
            "text/plain": [
              "0.08333333333333333"
            ]
          },
          "metadata": {
            "tags": []
          },
          "execution_count": 10
        }
      ]
    },
    {
      "cell_type": "code",
      "metadata": {
        "colab": {
          "base_uri": "https://localhost:8080/"
        },
        "id": "zqMIbAlNr4zh",
        "outputId": "b3381735-5ebd-4138-bfa5-114ec8b9b376"
      },
      "source": [
        "blob.words"
      ],
      "execution_count": 13,
      "outputs": [
        {
          "output_type": "execute_result",
          "data": {
            "text/plain": [
              "WordList(['The', 'Guinea', 'fowl', 'flies', 'through', 'the', 'air', 'with', 'all', 'the', 'grace', 'of', 'a', 'turtle', 'Lightning', 'Paradise', 'was', 'the', 'local', 'hangout', 'joint', 'where', 'the', 'group', 'usually', 'ended', 'up', 'spending', 'the', 'night', 'I', 'thought', 'red', 'would', 'have', 'felt', 'warmer', 'in', 'summer', 'but', 'I', 'did', \"n't\", 'think', 'about', 'the', 'equator'])"
            ]
          },
          "metadata": {
            "tags": []
          },
          "execution_count": 13
        }
      ]
    },
    {
      "cell_type": "code",
      "metadata": {
        "id": "XmH3_iZTsksU"
      },
      "source": [
        "sentence = blob.sentences"
      ],
      "execution_count": 20,
      "outputs": []
    },
    {
      "cell_type": "code",
      "metadata": {
        "colab": {
          "base_uri": "https://localhost:8080/"
        },
        "id": "erWCUh1Rs1G9",
        "outputId": "831e6449-61c4-4c4d-8591-4af71da99aa5"
      },
      "source": [
        "print(sentence)"
      ],
      "execution_count": 21,
      "outputs": [
        {
          "output_type": "stream",
          "text": [
            "[Sentence(\"\n",
            "The Guinea fowl flies through the air with all the grace of a turtle.\"), Sentence(\"Lightning Paradise was the local hangout joint where the group usually ended up spending the night.\"), Sentence(\"I thought red would have felt warmer in summer but I didn't think about the equator.\")]\n"
          ],
          "name": "stdout"
        }
      ]
    },
    {
      "cell_type": "code",
      "metadata": {
        "colab": {
          "base_uri": "https://localhost:8080/"
        },
        "id": "ID6F8PpNtJx-",
        "outputId": "8d304cd8-92e6-4d99-d939-16500b8c9cfa"
      },
      "source": [
        "for sentence in blob.sentences:\n",
        "  print(sentence.sentiment)"
      ],
      "execution_count": 22,
      "outputs": [
        {
          "output_type": "stream",
          "text": [
            "Sentiment(polarity=0.0, subjectivity=0.0)\n",
            "Sentiment(polarity=-0.125, subjectivity=0.125)\n",
            "Sentiment(polarity=0.0, subjectivity=0.0)\n"
          ],
          "name": "stdout"
        }
      ]
    },
    {
      "cell_type": "code",
      "metadata": {
        "colab": {
          "base_uri": "https://localhost:8080/",
          "height": 35
        },
        "id": "IdjOKiL9tR-h",
        "outputId": "37eb34f9-dbb1-43c4-b298-cb1129eec5cf"
      },
      "source": [
        "from textblob import Word\n",
        "w = Word(\"octopi\")\n",
        "w.lemmatize()\n",
        "x = Word(\"geese\")\n",
        "x.lemmatize()"
      ],
      "execution_count": 32,
      "outputs": [
        {
          "output_type": "execute_result",
          "data": {
            "application/vnd.google.colaboratory.intrinsic+json": {
              "type": "string"
            },
            "text/plain": [
              "'goose'"
            ]
          },
          "metadata": {
            "tags": []
          },
          "execution_count": 32
        }
      ]
    },
    {
      "cell_type": "code",
      "metadata": {
        "colab": {
          "base_uri": "https://localhost:8080/"
        },
        "id": "-hj8tpRTt8sj",
        "outputId": "83a6c456-940c-429e-de10-fbc7d785eb01"
      },
      "source": [
        "text = TextBlob(\"Is thisw workng welz\")\n",
        "text.correct()"
      ],
      "execution_count": 38,
      "outputs": [
        {
          "output_type": "execute_result",
          "data": {
            "text/plain": [
              "TextBlob(\"Is this working well\")"
            ]
          },
          "metadata": {
            "tags": []
          },
          "execution_count": 38
        }
      ]
    },
    {
      "cell_type": "code",
      "metadata": {
        "id": "s1Q_oxpMukXR"
      },
      "source": [
        "t = TextBlob(\"Can you say this in another language?\")"
      ],
      "execution_count": 40,
      "outputs": []
    },
    {
      "cell_type": "code",
      "metadata": {
        "colab": {
          "base_uri": "https://localhost:8080/"
        },
        "id": "1zw8MkDHvN5H",
        "outputId": "bff1e979-c1da-4794-81a8-146c1be86576"
      },
      "source": [
        "t.translate(to=\"fr\")"
      ],
      "execution_count": 41,
      "outputs": [
        {
          "output_type": "execute_result",
          "data": {
            "text/plain": [
              "TextBlob(\"Pouvez-vous dire cela dans une autre langue?\")"
            ]
          },
          "metadata": {
            "tags": []
          },
          "execution_count": 41
        }
      ]
    },
    {
      "cell_type": "code",
      "metadata": {
        "colab": {
          "base_uri": "https://localhost:8080/"
        },
        "id": "8G-MhxXTvkOT",
        "outputId": "22450972-cfc5-40fe-8811-9439f4663573"
      },
      "source": [
        "t.translate(to=\"es\")"
      ],
      "execution_count": 42,
      "outputs": [
        {
          "output_type": "execute_result",
          "data": {
            "text/plain": [
              "TextBlob(\"¿Puedes decir esto en otro idioma?\")"
            ]
          },
          "metadata": {
            "tags": []
          },
          "execution_count": 42
        }
      ]
    },
    {
      "cell_type": "code",
      "metadata": {
        "colab": {
          "base_uri": "https://localhost:8080/"
        },
        "id": "UjWCZrcKvm_y",
        "outputId": "9fb06c55-442e-40c4-8e4d-f11b601a9821"
      },
      "source": [
        "t.translate(to=\"hi\")"
      ],
      "execution_count": 43,
      "outputs": [
        {
          "output_type": "execute_result",
          "data": {
            "text/plain": [
              "TextBlob(\"क्या आप इसे दूसरी भाषा में कह सकते हैं?\")"
            ]
          },
          "metadata": {
            "tags": []
          },
          "execution_count": 43
        }
      ]
    },
    {
      "cell_type": "code",
      "metadata": {
        "id": "MjZRjrcOvqSa"
      },
      "source": [
        ""
      ],
      "execution_count": null,
      "outputs": []
    }
  ]
}